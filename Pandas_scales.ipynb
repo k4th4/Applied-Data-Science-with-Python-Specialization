{
  "nbformat": 4,
  "nbformat_minor": 0,
  "metadata": {
    "colab": {
      "name": "Pandas_scales.ipynb",
      "provenance": [],
      "authorship_tag": "ABX9TyNvLJGo/EkH2o2NJSU8NNO3",
      "include_colab_link": true
    },
    "kernelspec": {
      "name": "python3",
      "display_name": "Python 3"
    },
    "language_info": {
      "name": "python"
    }
  },
  "cells": [
    {
      "cell_type": "markdown",
      "metadata": {
        "id": "view-in-github",
        "colab_type": "text"
      },
      "source": [
        "<a href=\"https://colab.research.google.com/github/k4th4/Applied-Data-Science-with-Python-Specialization/blob/main/Pandas_scales.ipynb\" target=\"_parent\"><img src=\"https://colab.research.google.com/assets/colab-badge.svg\" alt=\"Open In Colab\"/></a>"
      ]
    },
    {
      "cell_type": "code",
      "metadata": {
        "id": "p5zw5n5ym9e9"
      },
      "source": [
        "import pandas as pd\n",
        "\n",
        "# Here’s an example. Lets create a dataframe of letter grades in descending order. We can also set an index\n",
        "# value and here we'll just make it some human judgement of how good a student was, like \"excellent\" or \"good\"\n",
        "\n",
        "df=pd.DataFrame(['A+', 'A', 'A-', 'B+', 'B', 'B-', 'C+', 'C', 'C-', 'D+', 'D', \"E\"],\n",
        "                index=['excellent', 'excellent', 'excellent', 'good', 'good', 'good', \n",
        "                       'ok', 'ok', 'ok', 'poor', 'poor', \"very poor\"],\n",
        "               columns=[\"Grades\"])"
      ],
      "execution_count": 14,
      "outputs": []
    },
    {
      "cell_type": "code",
      "metadata": {
        "colab": {
          "base_uri": "https://localhost:8080/",
          "height": 421
        },
        "id": "JqChxD4wnBLD",
        "outputId": "37fa0378-58cf-460f-c86b-3850fbeb2e90"
      },
      "source": [
        "df"
      ],
      "execution_count": 15,
      "outputs": [
        {
          "output_type": "execute_result",
          "data": {
            "text/html": [
              "<div>\n",
              "<style scoped>\n",
              "    .dataframe tbody tr th:only-of-type {\n",
              "        vertical-align: middle;\n",
              "    }\n",
              "\n",
              "    .dataframe tbody tr th {\n",
              "        vertical-align: top;\n",
              "    }\n",
              "\n",
              "    .dataframe thead th {\n",
              "        text-align: right;\n",
              "    }\n",
              "</style>\n",
              "<table border=\"1\" class=\"dataframe\">\n",
              "  <thead>\n",
              "    <tr style=\"text-align: right;\">\n",
              "      <th></th>\n",
              "      <th>Grades</th>\n",
              "    </tr>\n",
              "  </thead>\n",
              "  <tbody>\n",
              "    <tr>\n",
              "      <th>excellent</th>\n",
              "      <td>A+</td>\n",
              "    </tr>\n",
              "    <tr>\n",
              "      <th>excellent</th>\n",
              "      <td>A</td>\n",
              "    </tr>\n",
              "    <tr>\n",
              "      <th>excellent</th>\n",
              "      <td>A-</td>\n",
              "    </tr>\n",
              "    <tr>\n",
              "      <th>good</th>\n",
              "      <td>B+</td>\n",
              "    </tr>\n",
              "    <tr>\n",
              "      <th>good</th>\n",
              "      <td>B</td>\n",
              "    </tr>\n",
              "    <tr>\n",
              "      <th>good</th>\n",
              "      <td>B-</td>\n",
              "    </tr>\n",
              "    <tr>\n",
              "      <th>ok</th>\n",
              "      <td>C+</td>\n",
              "    </tr>\n",
              "    <tr>\n",
              "      <th>ok</th>\n",
              "      <td>C</td>\n",
              "    </tr>\n",
              "    <tr>\n",
              "      <th>ok</th>\n",
              "      <td>C-</td>\n",
              "    </tr>\n",
              "    <tr>\n",
              "      <th>poor</th>\n",
              "      <td>D+</td>\n",
              "    </tr>\n",
              "    <tr>\n",
              "      <th>poor</th>\n",
              "      <td>D</td>\n",
              "    </tr>\n",
              "    <tr>\n",
              "      <th>very poor</th>\n",
              "      <td>E</td>\n",
              "    </tr>\n",
              "  </tbody>\n",
              "</table>\n",
              "</div>"
            ],
            "text/plain": [
              "          Grades\n",
              "excellent     A+\n",
              "excellent      A\n",
              "excellent     A-\n",
              "good          B+\n",
              "good           B\n",
              "good          B-\n",
              "ok            C+\n",
              "ok             C\n",
              "ok            C-\n",
              "poor          D+\n",
              "poor           D\n",
              "very poor      E"
            ]
          },
          "metadata": {
            "tags": []
          },
          "execution_count": 15
        }
      ]
    },
    {
      "cell_type": "code",
      "metadata": {
        "colab": {
          "base_uri": "https://localhost:8080/"
        },
        "id": "k2022q4dnCOL",
        "outputId": "3e13be7e-e0a7-4d6c-9a9d-701a988c4545"
      },
      "source": [
        "df[\"Grades\"].astype(\"category\").head()"
      ],
      "execution_count": 16,
      "outputs": [
        {
          "output_type": "execute_result",
          "data": {
            "text/plain": [
              "excellent    A+\n",
              "excellent     A\n",
              "excellent    A-\n",
              "good         B+\n",
              "good          B\n",
              "Name: Grades, dtype: category\n",
              "Categories (12, object): ['A', 'A+', 'A-', 'B', ..., 'C-', 'D', 'D+', 'E']"
            ]
          },
          "metadata": {
            "tags": []
          },
          "execution_count": 16
        }
      ]
    },
    {
      "cell_type": "code",
      "metadata": {
        "colab": {
          "base_uri": "https://localhost:8080/"
        },
        "id": "iQmuetcFnWby",
        "outputId": "7abba054-75d4-4375-a0e0-46f75c6f1c00"
      },
      "source": [
        "#here is where the order happens\n",
        "my_categories=pd.CategoricalDtype(categories=[ \"D\", 'D+', 'C-', 'C', 'C+', 'B-', 'B', 'B+', 'A-', 'A', 'A+'], \n",
        "                           ordered=True)\n",
        "my_categories"
      ],
      "execution_count": 34,
      "outputs": [
        {
          "output_type": "execute_result",
          "data": {
            "text/plain": [
              "CategoricalDtype(categories=['D', 'D+', 'C-', 'C', 'C+', 'B-', 'B', 'B+', 'A-', 'A',\n",
              "                  'A+'],\n",
              "                 ordered=True)"
            ]
          },
          "metadata": {
            "tags": []
          },
          "execution_count": 34
        }
      ]
    },
    {
      "cell_type": "code",
      "metadata": {
        "colab": {
          "base_uri": "https://localhost:8080/"
        },
        "id": "h2C6LQ3RnkS7",
        "outputId": "40f85d2a-7235-4ffe-9a41-89967bdf97ee"
      },
      "source": [
        "# E is not in the Category list, so as type category it is NaN\n",
        "\n",
        "grades=df[\"Grades\"].astype(my_categories)\n",
        "grades"
      ],
      "execution_count": 35,
      "outputs": [
        {
          "output_type": "execute_result",
          "data": {
            "text/plain": [
              "excellent     A+\n",
              "excellent      A\n",
              "excellent     A-\n",
              "good          B+\n",
              "good           B\n",
              "good          B-\n",
              "ok            C+\n",
              "ok             C\n",
              "ok            C-\n",
              "poor          D+\n",
              "poor           D\n",
              "very poor    NaN\n",
              "Name: Grades, dtype: category\n",
              "Categories (11, object): ['D' < 'D+' < 'C-' < 'C' ... 'B+' < 'A-' < 'A' < 'A+']"
            ]
          },
          "metadata": {
            "tags": []
          },
          "execution_count": 35
        }
      ]
    },
    {
      "cell_type": "code",
      "metadata": {
        "colab": {
          "base_uri": "https://localhost:8080/"
        },
        "id": "OwwDdIl1oA_2",
        "outputId": "ec6b0891-7377-4152-92a2-cf6083c2c4f7"
      },
      "source": [
        "#E doesnt show up in the list\n",
        "grades[grades<\"B-\"]"
      ],
      "execution_count": 39,
      "outputs": [
        {
          "output_type": "execute_result",
          "data": {
            "text/plain": [
              "ok      C+\n",
              "ok       C\n",
              "ok      C-\n",
              "poor    D+\n",
              "poor     D\n",
              "Name: Grades, dtype: category\n",
              "Categories (11, object): ['D' < 'D+' < 'C-' < 'C' ... 'B+' < 'A-' < 'A' < 'A+']"
            ]
          },
          "metadata": {
            "tags": []
          },
          "execution_count": 39
        }
      ]
    },
    {
      "cell_type": "code",
      "metadata": {
        "colab": {
          "base_uri": "https://localhost:8080/",
          "height": 204
        },
        "id": "fIuXGPenrzCT",
        "outputId": "50560539-3244-448e-e16d-03495af9d8c0"
      },
      "source": [
        "df.head()"
      ],
      "execution_count": 54,
      "outputs": [
        {
          "output_type": "execute_result",
          "data": {
            "text/html": [
              "<div>\n",
              "<style scoped>\n",
              "    .dataframe tbody tr th:only-of-type {\n",
              "        vertical-align: middle;\n",
              "    }\n",
              "\n",
              "    .dataframe tbody tr th {\n",
              "        vertical-align: top;\n",
              "    }\n",
              "\n",
              "    .dataframe thead th {\n",
              "        text-align: right;\n",
              "    }\n",
              "</style>\n",
              "<table border=\"1\" class=\"dataframe\">\n",
              "  <thead>\n",
              "    <tr style=\"text-align: right;\">\n",
              "      <th></th>\n",
              "      <th>OrderDate</th>\n",
              "      <th>Region</th>\n",
              "      <th>Rep</th>\n",
              "      <th>Item</th>\n",
              "      <th>Units</th>\n",
              "      <th>UnitCost</th>\n",
              "      <th>Total</th>\n",
              "    </tr>\n",
              "  </thead>\n",
              "  <tbody>\n",
              "    <tr>\n",
              "      <th>0</th>\n",
              "      <td>1/6/2020</td>\n",
              "      <td>East</td>\n",
              "      <td>Jones</td>\n",
              "      <td>Pencil</td>\n",
              "      <td>95</td>\n",
              "      <td>1.99</td>\n",
              "      <td>189.05</td>\n",
              "    </tr>\n",
              "    <tr>\n",
              "      <th>1</th>\n",
              "      <td>1/23/2020</td>\n",
              "      <td>Central</td>\n",
              "      <td>Kivell</td>\n",
              "      <td>Binder</td>\n",
              "      <td>50</td>\n",
              "      <td>19.99</td>\n",
              "      <td>999.50</td>\n",
              "    </tr>\n",
              "    <tr>\n",
              "      <th>2</th>\n",
              "      <td>2/9/2020</td>\n",
              "      <td>Central</td>\n",
              "      <td>Jardine</td>\n",
              "      <td>Pencil</td>\n",
              "      <td>36</td>\n",
              "      <td>4.99</td>\n",
              "      <td>179.64</td>\n",
              "    </tr>\n",
              "    <tr>\n",
              "      <th>3</th>\n",
              "      <td>2/26/2020</td>\n",
              "      <td>Central</td>\n",
              "      <td>Gill</td>\n",
              "      <td>Pen</td>\n",
              "      <td>27</td>\n",
              "      <td>19.99</td>\n",
              "      <td>539.73</td>\n",
              "    </tr>\n",
              "    <tr>\n",
              "      <th>4</th>\n",
              "      <td>3/15/2020</td>\n",
              "      <td>West</td>\n",
              "      <td>Sorvino</td>\n",
              "      <td>Pencil</td>\n",
              "      <td>56</td>\n",
              "      <td>2.99</td>\n",
              "      <td>167.44</td>\n",
              "    </tr>\n",
              "  </tbody>\n",
              "</table>\n",
              "</div>"
            ],
            "text/plain": [
              "   OrderDate   Region      Rep    Item  Units  UnitCost   Total\n",
              "0   1/6/2020     East    Jones  Pencil     95      1.99  189.05\n",
              "1  1/23/2020  Central   Kivell  Binder     50     19.99  999.50\n",
              "2   2/9/2020  Central  Jardine  Pencil     36      4.99  179.64\n",
              "3  2/26/2020  Central     Gill     Pen     27     19.99  539.73\n",
              "4  3/15/2020     West  Sorvino  Pencil     56      2.99  167.44"
            ]
          },
          "metadata": {
            "tags": []
          },
          "execution_count": 54
        }
      ]
    },
    {
      "cell_type": "code",
      "metadata": {
        "id": "qYSUHhGuoPAr"
      },
      "source": [
        "# let's bring in numpy\n",
        "import numpy as np\n",
        "\n",
        "# Now we read in our dataset\n",
        "df=pd.read_csv(\"/content/sample_data/sample dataset office.csv\")"
      ],
      "execution_count": 76,
      "outputs": []
    },
    {
      "cell_type": "code",
      "metadata": {
        "colab": {
          "base_uri": "https://localhost:8080/",
          "height": 204
        },
        "id": "Bi6kfRHDqNGI",
        "outputId": "aa5ed027-d9b3-44c4-f72c-bd78af661bc3"
      },
      "source": [
        "df.head()\n"
      ],
      "execution_count": 77,
      "outputs": [
        {
          "output_type": "execute_result",
          "data": {
            "text/html": [
              "<div>\n",
              "<style scoped>\n",
              "    .dataframe tbody tr th:only-of-type {\n",
              "        vertical-align: middle;\n",
              "    }\n",
              "\n",
              "    .dataframe tbody tr th {\n",
              "        vertical-align: top;\n",
              "    }\n",
              "\n",
              "    .dataframe thead th {\n",
              "        text-align: right;\n",
              "    }\n",
              "</style>\n",
              "<table border=\"1\" class=\"dataframe\">\n",
              "  <thead>\n",
              "    <tr style=\"text-align: right;\">\n",
              "      <th></th>\n",
              "      <th>OrderDate</th>\n",
              "      <th>Region</th>\n",
              "      <th>Rep</th>\n",
              "      <th>Item</th>\n",
              "      <th>Units</th>\n",
              "      <th>UnitCost</th>\n",
              "      <th>Total</th>\n",
              "    </tr>\n",
              "  </thead>\n",
              "  <tbody>\n",
              "    <tr>\n",
              "      <th>0</th>\n",
              "      <td>1/6/2020</td>\n",
              "      <td>East</td>\n",
              "      <td>Jones</td>\n",
              "      <td>Pencil</td>\n",
              "      <td>95</td>\n",
              "      <td>1.99</td>\n",
              "      <td>189.05</td>\n",
              "    </tr>\n",
              "    <tr>\n",
              "      <th>1</th>\n",
              "      <td>1/23/2020</td>\n",
              "      <td>Central</td>\n",
              "      <td>Kivell</td>\n",
              "      <td>Binder</td>\n",
              "      <td>50</td>\n",
              "      <td>19.99</td>\n",
              "      <td>999.50</td>\n",
              "    </tr>\n",
              "    <tr>\n",
              "      <th>2</th>\n",
              "      <td>2/9/2020</td>\n",
              "      <td>Central</td>\n",
              "      <td>Jardine</td>\n",
              "      <td>Pencil</td>\n",
              "      <td>36</td>\n",
              "      <td>4.99</td>\n",
              "      <td>179.64</td>\n",
              "    </tr>\n",
              "    <tr>\n",
              "      <th>3</th>\n",
              "      <td>2/26/2020</td>\n",
              "      <td>Central</td>\n",
              "      <td>Gill</td>\n",
              "      <td>Pen</td>\n",
              "      <td>27</td>\n",
              "      <td>19.99</td>\n",
              "      <td>539.73</td>\n",
              "    </tr>\n",
              "    <tr>\n",
              "      <th>4</th>\n",
              "      <td>3/15/2020</td>\n",
              "      <td>West</td>\n",
              "      <td>Sorvino</td>\n",
              "      <td>Pencil</td>\n",
              "      <td>56</td>\n",
              "      <td>2.99</td>\n",
              "      <td>167.44</td>\n",
              "    </tr>\n",
              "  </tbody>\n",
              "</table>\n",
              "</div>"
            ],
            "text/plain": [
              "   OrderDate   Region      Rep    Item  Units  UnitCost   Total\n",
              "0   1/6/2020     East    Jones  Pencil     95      1.99  189.05\n",
              "1  1/23/2020  Central   Kivell  Binder     50     19.99  999.50\n",
              "2   2/9/2020  Central  Jardine  Pencil     36      4.99  179.64\n",
              "3  2/26/2020  Central     Gill     Pen     27     19.99  539.73\n",
              "4  3/15/2020     West  Sorvino  Pencil     56      2.99  167.44"
            ]
          },
          "metadata": {
            "tags": []
          },
          "execution_count": 77
        }
      ]
    },
    {
      "cell_type": "code",
      "metadata": {
        "colab": {
          "base_uri": "https://localhost:8080/",
          "height": 204
        },
        "id": "eroNdSuerNx0",
        "outputId": "50d56e44-ff6d-48bf-bd11-de143e20316c"
      },
      "source": [
        "#the total column was not foat, so we have to transform it to float\n",
        "df['Total'] = df['Total'].astype(str).str.replace(\",\", \"\").astype(float)\n",
        "df.head()"
      ],
      "execution_count": 78,
      "outputs": [
        {
          "output_type": "execute_result",
          "data": {
            "text/html": [
              "<div>\n",
              "<style scoped>\n",
              "    .dataframe tbody tr th:only-of-type {\n",
              "        vertical-align: middle;\n",
              "    }\n",
              "\n",
              "    .dataframe tbody tr th {\n",
              "        vertical-align: top;\n",
              "    }\n",
              "\n",
              "    .dataframe thead th {\n",
              "        text-align: right;\n",
              "    }\n",
              "</style>\n",
              "<table border=\"1\" class=\"dataframe\">\n",
              "  <thead>\n",
              "    <tr style=\"text-align: right;\">\n",
              "      <th></th>\n",
              "      <th>OrderDate</th>\n",
              "      <th>Region</th>\n",
              "      <th>Rep</th>\n",
              "      <th>Item</th>\n",
              "      <th>Units</th>\n",
              "      <th>UnitCost</th>\n",
              "      <th>Total</th>\n",
              "    </tr>\n",
              "  </thead>\n",
              "  <tbody>\n",
              "    <tr>\n",
              "      <th>0</th>\n",
              "      <td>1/6/2020</td>\n",
              "      <td>East</td>\n",
              "      <td>Jones</td>\n",
              "      <td>Pencil</td>\n",
              "      <td>95</td>\n",
              "      <td>1.99</td>\n",
              "      <td>189.05</td>\n",
              "    </tr>\n",
              "    <tr>\n",
              "      <th>1</th>\n",
              "      <td>1/23/2020</td>\n",
              "      <td>Central</td>\n",
              "      <td>Kivell</td>\n",
              "      <td>Binder</td>\n",
              "      <td>50</td>\n",
              "      <td>19.99</td>\n",
              "      <td>999.50</td>\n",
              "    </tr>\n",
              "    <tr>\n",
              "      <th>2</th>\n",
              "      <td>2/9/2020</td>\n",
              "      <td>Central</td>\n",
              "      <td>Jardine</td>\n",
              "      <td>Pencil</td>\n",
              "      <td>36</td>\n",
              "      <td>4.99</td>\n",
              "      <td>179.64</td>\n",
              "    </tr>\n",
              "    <tr>\n",
              "      <th>3</th>\n",
              "      <td>2/26/2020</td>\n",
              "      <td>Central</td>\n",
              "      <td>Gill</td>\n",
              "      <td>Pen</td>\n",
              "      <td>27</td>\n",
              "      <td>19.99</td>\n",
              "      <td>539.73</td>\n",
              "    </tr>\n",
              "    <tr>\n",
              "      <th>4</th>\n",
              "      <td>3/15/2020</td>\n",
              "      <td>West</td>\n",
              "      <td>Sorvino</td>\n",
              "      <td>Pencil</td>\n",
              "      <td>56</td>\n",
              "      <td>2.99</td>\n",
              "      <td>167.44</td>\n",
              "    </tr>\n",
              "  </tbody>\n",
              "</table>\n",
              "</div>"
            ],
            "text/plain": [
              "   OrderDate   Region      Rep    Item  Units  UnitCost   Total\n",
              "0   1/6/2020     East    Jones  Pencil     95      1.99  189.05\n",
              "1  1/23/2020  Central   Kivell  Binder     50     19.99  999.50\n",
              "2   2/9/2020  Central  Jardine  Pencil     36      4.99  179.64\n",
              "3  2/26/2020  Central     Gill     Pen     27     19.99  539.73\n",
              "4  3/15/2020     West  Sorvino  Pencil     56      2.99  167.44"
            ]
          },
          "metadata": {
            "tags": []
          },
          "execution_count": 78
        }
      ]
    },
    {
      "cell_type": "code",
      "metadata": {
        "colab": {
          "base_uri": "https://localhost:8080/"
        },
        "id": "fcovQkzaqo1h",
        "outputId": "2f655e75-1088-4dd7-88e1-d5baf0df14a3"
      },
      "source": [
        "#total sales per Rep in the whole table\n",
        "df_new=df.set_index('Rep').groupby(level=0)['Total'].agg(np.nansum)\n",
        "df_new.head()"
      ],
      "execution_count": 81,
      "outputs": [
        {
          "output_type": "execute_result",
          "data": {
            "text/plain": [
              "Rep\n",
              "Andrews     438.37\n",
              "Gill       1749.87\n",
              "Howard      536.75\n",
              "Jardine    2812.19\n",
              "Jones      2363.04\n",
              "Name: Total, dtype: float64"
            ]
          },
          "metadata": {
            "tags": []
          },
          "execution_count": 81
        }
      ]
    },
    {
      "cell_type": "code",
      "metadata": {
        "colab": {
          "base_uri": "https://localhost:8080/"
        },
        "id": "sOCtqB9uq4wh",
        "outputId": "88d36865-7554-44a0-ed67-738d972fe390"
      },
      "source": [
        "#bin the Reps in three different categories \n",
        "pd.cut(df_new, 3)"
      ],
      "execution_count": 88,
      "outputs": [
        {
          "output_type": "execute_result",
          "data": {
            "text/plain": [
              "Rep\n",
              "Andrews      (435.699, 1328.727]\n",
              "Gill        (1328.727, 2219.083]\n",
              "Howard       (435.699, 1328.727]\n",
              "Jardine      (2219.083, 3109.44]\n",
              "Jones        (2219.083, 3109.44]\n",
              "Kivell       (2219.083, 3109.44]\n",
              "Morgan      (1328.727, 2219.083]\n",
              "Parent       (2219.083, 3109.44]\n",
              "Smith       (1328.727, 2219.083]\n",
              "Sorvino      (435.699, 1328.727]\n",
              "Thompson     (435.699, 1328.727]\n",
              "Name: Total, dtype: category\n",
              "Categories (3, interval[float64]): [(435.699, 1328.727] < (1328.727, 2219.083] < (2219.083, 3109.44]]"
            ]
          },
          "metadata": {
            "tags": []
          },
          "execution_count": 88
        }
      ]
    },
    {
      "cell_type": "code",
      "metadata": {
        "colab": {
          "base_uri": "https://localhost:8080/"
        },
        "id": "YClCv7nEtIF0",
        "outputId": "49c9b9ec-aaee-475c-a762-923e0db6ef46"
      },
      "source": [
        "#bin the Reps in three different categories and label them as low, medium and high\n",
        "pd.cut(df_new, 3, labels=[\"low\", \"medium\", \"high\"])"
      ],
      "execution_count": 87,
      "outputs": [
        {
          "output_type": "execute_result",
          "data": {
            "text/plain": [
              "Rep\n",
              "Andrews        low\n",
              "Gill        medium\n",
              "Howard         low\n",
              "Jardine       high\n",
              "Jones         high\n",
              "Kivell        high\n",
              "Morgan      medium\n",
              "Parent        high\n",
              "Smith       medium\n",
              "Sorvino        low\n",
              "Thompson       low\n",
              "Name: Total, dtype: category\n",
              "Categories (3, object): ['low' < 'medium' < 'high']"
            ]
          },
          "metadata": {
            "tags": []
          },
          "execution_count": 87
        }
      ]
    },
    {
      "cell_type": "code",
      "metadata": {
        "id": "4f4vWaQjt8Qb"
      },
      "source": [
        ""
      ],
      "execution_count": null,
      "outputs": []
    }
  ]
}