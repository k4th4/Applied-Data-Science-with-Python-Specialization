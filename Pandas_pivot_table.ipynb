{
  "nbformat": 4,
  "nbformat_minor": 0,
  "metadata": {
    "colab": {
      "name": "Pandas_pivot_table.ipynb",
      "provenance": [],
      "authorship_tag": "ABX9TyNic8mvGQ4m2DetSjj/+Ncl",
      "include_colab_link": true
    },
    "kernelspec": {
      "name": "python3",
      "display_name": "Python 3"
    },
    "language_info": {
      "name": "python"
    }
  },
  "cells": [
    {
      "cell_type": "markdown",
      "metadata": {
        "id": "view-in-github",
        "colab_type": "text"
      },
      "source": [
        "<a href=\"https://colab.research.google.com/github/k4th4/Applied-Data-Science-with-Python-Specialization/blob/main/Pandas_pivot_table.ipynb\" target=\"_parent\"><img src=\"https://colab.research.google.com/assets/colab-badge.svg\" alt=\"Open In Colab\"/></a>"
      ]
    },
    {
      "cell_type": "code",
      "metadata": {
        "id": "x_PgXi4Avc_l"
      },
      "source": [
        "import pandas as pd\n",
        "import numpy as np\n",
        "\n",
        "df = pd.read_csv('/content/sample_data/sample dataset office.csv')"
      ],
      "execution_count": 1,
      "outputs": []
    },
    {
      "cell_type": "code",
      "metadata": {
        "id": "6aAdG84lwIiv",
        "colab": {
          "base_uri": "https://localhost:8080/",
          "height": 204
        },
        "outputId": "c538e85c-44a1-47f9-a8e5-e5c0649afe78"
      },
      "source": [
        "df['Total'] = df['Total'].astype(str).str.replace(\",\", \"\").astype(float)\n",
        "df.head()\n"
      ],
      "execution_count": 4,
      "outputs": [
        {
          "output_type": "execute_result",
          "data": {
            "text/html": [
              "<div>\n",
              "<style scoped>\n",
              "    .dataframe tbody tr th:only-of-type {\n",
              "        vertical-align: middle;\n",
              "    }\n",
              "\n",
              "    .dataframe tbody tr th {\n",
              "        vertical-align: top;\n",
              "    }\n",
              "\n",
              "    .dataframe thead th {\n",
              "        text-align: right;\n",
              "    }\n",
              "</style>\n",
              "<table border=\"1\" class=\"dataframe\">\n",
              "  <thead>\n",
              "    <tr style=\"text-align: right;\">\n",
              "      <th></th>\n",
              "      <th>OrderDate</th>\n",
              "      <th>Region</th>\n",
              "      <th>Rep</th>\n",
              "      <th>Item</th>\n",
              "      <th>Units</th>\n",
              "      <th>UnitCost</th>\n",
              "      <th>Total</th>\n",
              "    </tr>\n",
              "  </thead>\n",
              "  <tbody>\n",
              "    <tr>\n",
              "      <th>0</th>\n",
              "      <td>1/6/2020</td>\n",
              "      <td>East</td>\n",
              "      <td>Jones</td>\n",
              "      <td>Pencil</td>\n",
              "      <td>95</td>\n",
              "      <td>1.99</td>\n",
              "      <td>189.05</td>\n",
              "    </tr>\n",
              "    <tr>\n",
              "      <th>1</th>\n",
              "      <td>1/23/2020</td>\n",
              "      <td>Central</td>\n",
              "      <td>Kivell</td>\n",
              "      <td>Binder</td>\n",
              "      <td>50</td>\n",
              "      <td>19.99</td>\n",
              "      <td>999.50</td>\n",
              "    </tr>\n",
              "    <tr>\n",
              "      <th>2</th>\n",
              "      <td>2/9/2020</td>\n",
              "      <td>Central</td>\n",
              "      <td>Jardine</td>\n",
              "      <td>Pencil</td>\n",
              "      <td>36</td>\n",
              "      <td>4.99</td>\n",
              "      <td>179.64</td>\n",
              "    </tr>\n",
              "    <tr>\n",
              "      <th>3</th>\n",
              "      <td>2/26/2020</td>\n",
              "      <td>Central</td>\n",
              "      <td>Gill</td>\n",
              "      <td>Pen</td>\n",
              "      <td>27</td>\n",
              "      <td>19.99</td>\n",
              "      <td>539.73</td>\n",
              "    </tr>\n",
              "    <tr>\n",
              "      <th>4</th>\n",
              "      <td>3/15/2020</td>\n",
              "      <td>West</td>\n",
              "      <td>Sorvino</td>\n",
              "      <td>Pencil</td>\n",
              "      <td>56</td>\n",
              "      <td>2.99</td>\n",
              "      <td>167.44</td>\n",
              "    </tr>\n",
              "  </tbody>\n",
              "</table>\n",
              "</div>"
            ],
            "text/plain": [
              "   OrderDate   Region      Rep    Item  Units  UnitCost   Total\n",
              "0   1/6/2020     East    Jones  Pencil     95      1.99  189.05\n",
              "1  1/23/2020  Central   Kivell  Binder     50     19.99  999.50\n",
              "2   2/9/2020  Central  Jardine  Pencil     36      4.99  179.64\n",
              "3  2/26/2020  Central     Gill     Pen     27     19.99  539.73\n",
              "4  3/15/2020     West  Sorvino  Pencil     56      2.99  167.44"
            ]
          },
          "metadata": {
            "tags": []
          },
          "execution_count": 4
        }
      ]
    },
    {
      "cell_type": "code",
      "metadata": {
        "id": "xyLBlSpM4KYY"
      },
      "source": [
        "def create_sale_size(ranking):\n",
        "    # Since the rank is just an integer, I'll just do a bunch of if/elif statements\n",
        "    if (ranking >= 1) & (ranking <200):\n",
        "        return \"Small\"\n",
        "    elif (ranking >= 200) & (ranking <300):\n",
        "        return \"Medium\"\n",
        "    elif (ranking >= 300) & (ranking <= 10000):\n",
        "        return \"Large\"\n",
        "    return \"Other\"\n",
        "\n",
        "# Now we can apply this to a single column of data to create a new series\n",
        "#df['Rank_Level'] = df['world_rank'].apply(lambda x: create_category(x))\n",
        "# And lets look at the result\n",
        "#df.head()"
      ],
      "execution_count": 5,
      "outputs": []
    },
    {
      "cell_type": "code",
      "metadata": {
        "colab": {
          "base_uri": "https://localhost:8080/",
          "height": 483
        },
        "id": "f7zuy1Xl8q3K",
        "outputId": "7513e620-64d3-4537-a972-3399a7199a4d"
      },
      "source": [
        "df.pivot_table(values='Total', index='Rep', columns='Item', aggfunc=[np.nansum], margins=True)"
      ],
      "execution_count": 15,
      "outputs": [
        {
          "output_type": "execute_result",
          "data": {
            "text/html": [
              "<div>\n",
              "<style scoped>\n",
              "    .dataframe tbody tr th:only-of-type {\n",
              "        vertical-align: middle;\n",
              "    }\n",
              "\n",
              "    .dataframe tbody tr th {\n",
              "        vertical-align: top;\n",
              "    }\n",
              "\n",
              "    .dataframe thead tr th {\n",
              "        text-align: left;\n",
              "    }\n",
              "\n",
              "    .dataframe thead tr:last-of-type th {\n",
              "        text-align: right;\n",
              "    }\n",
              "</style>\n",
              "<table border=\"1\" class=\"dataframe\">\n",
              "  <thead>\n",
              "    <tr>\n",
              "      <th></th>\n",
              "      <th colspan=\"6\" halign=\"left\">nansum</th>\n",
              "    </tr>\n",
              "    <tr>\n",
              "      <th>Item</th>\n",
              "      <th>Binder</th>\n",
              "      <th>Desk</th>\n",
              "      <th>Pen</th>\n",
              "      <th>Pen Set</th>\n",
              "      <th>Pencil</th>\n",
              "      <th>All</th>\n",
              "    </tr>\n",
              "    <tr>\n",
              "      <th>Rep</th>\n",
              "      <th></th>\n",
              "      <th></th>\n",
              "      <th></th>\n",
              "      <th></th>\n",
              "      <th></th>\n",
              "      <th></th>\n",
              "    </tr>\n",
              "  </thead>\n",
              "  <tbody>\n",
              "    <tr>\n",
              "      <th>Andrews</th>\n",
              "      <td>139.72</td>\n",
              "      <td>NaN</td>\n",
              "      <td>NaN</td>\n",
              "      <td>NaN</td>\n",
              "      <td>298.65</td>\n",
              "      <td>438.37</td>\n",
              "    </tr>\n",
              "    <tr>\n",
              "      <th>Gill</th>\n",
              "      <td>1132.74</td>\n",
              "      <td>NaN</td>\n",
              "      <td>539.73</td>\n",
              "      <td>NaN</td>\n",
              "      <td>77.40</td>\n",
              "      <td>1749.87</td>\n",
              "    </tr>\n",
              "    <tr>\n",
              "      <th>Howard</th>\n",
              "      <td>57.71</td>\n",
              "      <td>NaN</td>\n",
              "      <td>479.04</td>\n",
              "      <td>NaN</td>\n",
              "      <td>NaN</td>\n",
              "      <td>536.75</td>\n",
              "    </tr>\n",
              "    <tr>\n",
              "      <th>Jardine</th>\n",
              "      <td>1933.95</td>\n",
              "      <td>NaN</td>\n",
              "      <td>NaN</td>\n",
              "      <td>249.50</td>\n",
              "      <td>628.74</td>\n",
              "      <td>2812.19</td>\n",
              "    </tr>\n",
              "    <tr>\n",
              "      <th>Jones</th>\n",
              "      <td>858.76</td>\n",
              "      <td>NaN</td>\n",
              "      <td>575.36</td>\n",
              "      <td>565.22</td>\n",
              "      <td>363.70</td>\n",
              "      <td>2363.04</td>\n",
              "    </tr>\n",
              "    <tr>\n",
              "      <th>Kivell</th>\n",
              "      <td>999.50</td>\n",
              "      <td>625.0</td>\n",
              "      <td>NaN</td>\n",
              "      <td>1484.94</td>\n",
              "      <td>NaN</td>\n",
              "      <td>3109.44</td>\n",
              "    </tr>\n",
              "    <tr>\n",
              "      <th>Morgan</th>\n",
              "      <td>251.72</td>\n",
              "      <td>NaN</td>\n",
              "      <td>NaN</td>\n",
              "      <td>686.95</td>\n",
              "      <td>449.10</td>\n",
              "      <td>1387.77</td>\n",
              "    </tr>\n",
              "    <tr>\n",
              "      <th>Parent</th>\n",
              "      <td>1619.19</td>\n",
              "      <td>NaN</td>\n",
              "      <td>299.85</td>\n",
              "      <td>1183.26</td>\n",
              "      <td>NaN</td>\n",
              "      <td>3102.30</td>\n",
              "    </tr>\n",
              "    <tr>\n",
              "      <th>Smith</th>\n",
              "      <td>1305.00</td>\n",
              "      <td>250.0</td>\n",
              "      <td>NaN</td>\n",
              "      <td>NaN</td>\n",
              "      <td>86.43</td>\n",
              "      <td>1641.43</td>\n",
              "    </tr>\n",
              "    <tr>\n",
              "      <th>Sorvino</th>\n",
              "      <td>139.93</td>\n",
              "      <td>825.0</td>\n",
              "      <td>151.24</td>\n",
              "      <td>NaN</td>\n",
              "      <td>167.44</td>\n",
              "      <td>1283.61</td>\n",
              "    </tr>\n",
              "    <tr>\n",
              "      <th>Thompson</th>\n",
              "      <td>1139.43</td>\n",
              "      <td>NaN</td>\n",
              "      <td>NaN</td>\n",
              "      <td>NaN</td>\n",
              "      <td>63.68</td>\n",
              "      <td>1203.11</td>\n",
              "    </tr>\n",
              "    <tr>\n",
              "      <th>All</th>\n",
              "      <td>9577.65</td>\n",
              "      <td>1700.0</td>\n",
              "      <td>2045.22</td>\n",
              "      <td>4169.87</td>\n",
              "      <td>2135.14</td>\n",
              "      <td>19627.88</td>\n",
              "    </tr>\n",
              "  </tbody>\n",
              "</table>\n",
              "</div>"
            ],
            "text/plain": [
              "           nansum                                             \n",
              "Item       Binder    Desk      Pen  Pen Set   Pencil       All\n",
              "Rep                                                           \n",
              "Andrews    139.72     NaN      NaN      NaN   298.65    438.37\n",
              "Gill      1132.74     NaN   539.73      NaN    77.40   1749.87\n",
              "Howard      57.71     NaN   479.04      NaN      NaN    536.75\n",
              "Jardine   1933.95     NaN      NaN   249.50   628.74   2812.19\n",
              "Jones      858.76     NaN   575.36   565.22   363.70   2363.04\n",
              "Kivell     999.50   625.0      NaN  1484.94      NaN   3109.44\n",
              "Morgan     251.72     NaN      NaN   686.95   449.10   1387.77\n",
              "Parent    1619.19     NaN   299.85  1183.26      NaN   3102.30\n",
              "Smith     1305.00   250.0      NaN      NaN    86.43   1641.43\n",
              "Sorvino    139.93   825.0   151.24      NaN   167.44   1283.61\n",
              "Thompson  1139.43     NaN      NaN      NaN    63.68   1203.11\n",
              "All       9577.65  1700.0  2045.22  4169.87  2135.14  19627.88"
            ]
          },
          "metadata": {
            "tags": []
          },
          "execution_count": 15
        }
      ]
    },
    {
      "cell_type": "code",
      "metadata": {
        "id": "W3S09FbU80AL"
      },
      "source": [
        "new_df= df.pivot_table(values='Total', index='Rep', columns='Item', aggfunc=[np.nansum], margins=True)"
      ],
      "execution_count": 16,
      "outputs": []
    },
    {
      "cell_type": "code",
      "metadata": {
        "colab": {
          "base_uri": "https://localhost:8080/"
        },
        "id": "vdZDWRuV-4nx",
        "outputId": "8db69ab9-45b1-48a8-ad90-27ccd41ffe25"
      },
      "source": [
        "#series object\n",
        "new_df[\"nansum\"][\"Binder\"]"
      ],
      "execution_count": 17,
      "outputs": [
        {
          "output_type": "execute_result",
          "data": {
            "text/plain": [
              "Rep\n",
              "Andrews      139.72\n",
              "Gill        1132.74\n",
              "Howard        57.71\n",
              "Jardine     1933.95\n",
              "Jones        858.76\n",
              "Kivell       999.50\n",
              "Morgan       251.72\n",
              "Parent      1619.19\n",
              "Smith       1305.00\n",
              "Sorvino      139.93\n",
              "Thompson    1139.43\n",
              "All         9577.65\n",
              "Name: Binder, dtype: float64"
            ]
          },
          "metadata": {
            "tags": []
          },
          "execution_count": 17
        }
      ]
    },
    {
      "cell_type": "code",
      "metadata": {
        "colab": {
          "base_uri": "https://localhost:8080/",
          "height": 35
        },
        "id": "CvErrJSa_Cji",
        "outputId": "aae823c3-af6c-4334-e1e9-7a63869a4375"
      },
      "source": [
        "new_df[\"nansum\"][\"Binder\"].idxmin()"
      ],
      "execution_count": 22,
      "outputs": [
        {
          "output_type": "execute_result",
          "data": {
            "application/vnd.google.colaboratory.intrinsic+json": {
              "type": "string"
            },
            "text/plain": [
              "'Howard'"
            ]
          },
          "metadata": {
            "tags": []
          },
          "execution_count": 22
        }
      ]
    },
    {
      "cell_type": "code",
      "metadata": {
        "colab": {
          "base_uri": "https://localhost:8080/",
          "height": 235
        },
        "id": "VZGsRXQX_Oqv",
        "outputId": "9595b904-2545-4c24-a392-417a488fe0c8"
      },
      "source": [
        "#different shape of the pivot table\n",
        "new_df.stack().head()\n",
        "#.unstack() to reverse"
      ],
      "execution_count": 24,
      "outputs": [
        {
          "output_type": "execute_result",
          "data": {
            "text/html": [
              "<div>\n",
              "<style scoped>\n",
              "    .dataframe tbody tr th:only-of-type {\n",
              "        vertical-align: middle;\n",
              "    }\n",
              "\n",
              "    .dataframe tbody tr th {\n",
              "        vertical-align: top;\n",
              "    }\n",
              "\n",
              "    .dataframe thead th {\n",
              "        text-align: right;\n",
              "    }\n",
              "</style>\n",
              "<table border=\"1\" class=\"dataframe\">\n",
              "  <thead>\n",
              "    <tr style=\"text-align: right;\">\n",
              "      <th></th>\n",
              "      <th></th>\n",
              "      <th>nansum</th>\n",
              "    </tr>\n",
              "    <tr>\n",
              "      <th>Rep</th>\n",
              "      <th>Item</th>\n",
              "      <th></th>\n",
              "    </tr>\n",
              "  </thead>\n",
              "  <tbody>\n",
              "    <tr>\n",
              "      <th rowspan=\"3\" valign=\"top\">Andrews</th>\n",
              "      <th>Binder</th>\n",
              "      <td>139.72</td>\n",
              "    </tr>\n",
              "    <tr>\n",
              "      <th>Pencil</th>\n",
              "      <td>298.65</td>\n",
              "    </tr>\n",
              "    <tr>\n",
              "      <th>All</th>\n",
              "      <td>438.37</td>\n",
              "    </tr>\n",
              "    <tr>\n",
              "      <th rowspan=\"2\" valign=\"top\">Gill</th>\n",
              "      <th>Binder</th>\n",
              "      <td>1132.74</td>\n",
              "    </tr>\n",
              "    <tr>\n",
              "      <th>Pen</th>\n",
              "      <td>539.73</td>\n",
              "    </tr>\n",
              "  </tbody>\n",
              "</table>\n",
              "</div>"
            ],
            "text/plain": [
              "                 nansum\n",
              "Rep     Item           \n",
              "Andrews Binder   139.72\n",
              "        Pencil   298.65\n",
              "        All      438.37\n",
              "Gill    Binder  1132.74\n",
              "        Pen      539.73"
            ]
          },
          "metadata": {
            "tags": []
          },
          "execution_count": 24
        }
      ]
    },
    {
      "cell_type": "code",
      "metadata": {
        "colab": {
          "base_uri": "https://localhost:8080/"
        },
        "id": "1V0kPMA5_gYs",
        "outputId": "25234ec6-881f-4a64-d0be-44e1429a3d98"
      },
      "source": [
        "new_df.unstack()"
      ],
      "execution_count": 27,
      "outputs": [
        {
          "output_type": "execute_result",
          "data": {
            "text/plain": [
              "        Item    Rep     \n",
              "nansum  Binder  Andrews       139.72\n",
              "                Gill         1132.74\n",
              "                Howard         57.71\n",
              "                Jardine      1933.95\n",
              "                Jones         858.76\n",
              "                              ...   \n",
              "        All     Parent       3102.30\n",
              "                Smith        1641.43\n",
              "                Sorvino      1283.61\n",
              "                Thompson     1203.11\n",
              "                All         19627.88\n",
              "Length: 72, dtype: float64"
            ]
          },
          "metadata": {
            "tags": []
          },
          "execution_count": 27
        }
      ]
    },
    {
      "cell_type": "code",
      "metadata": {
        "id": "xJPCIlrh_4bv"
      },
      "source": [
        ""
      ],
      "execution_count": null,
      "outputs": []
    }
  ]
}